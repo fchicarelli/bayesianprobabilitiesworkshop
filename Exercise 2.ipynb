{
 "cells": [
  {
   "cell_type": "markdown",
   "metadata": {},
   "source": [
    "Exercise 2: Bayesian A/B testing for Swedish Fish Incorporated with Stan \n",
    "============ \n",
    "### *Rasmus Bååth (adapted for Python by Christophe Carvenius)*\n",
    "Swedish Fish Incorporated is the largest Swedish company delivering fish by mail order, but you probably already knew that. The marketing department have done a pilot study and tried two different marketing methods:\n",
    "\n",
    "**A:** Sending a mail with a colorful brochure that invites people to sign up for a one year salmon subscription.\n",
    "\n",
    "**B:** Sending a colorful brochure that invites people to sign up for a one year salmon subscription *and that includes a free salmon*.\n",
    "\n",
    "The marketing department sent out 16 mails of type A and 16 mails of type B. Six Danes that received a mail of type A signed up for one year of salmon, and ten Danes that received a mail of type B signed up!\n",
    "\n",
    "The marketing department now wants to know, which method should we use, A or B?\n",
    "\n",
    "*At the bottom of this document you’ll find a solution. But try yourself first!*\n",
    "\n",
    "## Question 1: Build a Bayesian model in Stan that answers the question: What is the probability that method B is better than method A?\n",
    "**Hint 1:** As part of you generative model you’ll want to use the binomial distribution, which you can use in Stan like this:\n",
    "\n",
    "`s ~ binomial(size, rate);`\n",
    "\n",
    "This should be read as: The number of successes `s` is distributed as a binomial distribution with `size` trials, where the rate of success is `rate`.\n",
    "\n",
    "**Hint 2:** A commonly used prior for the unknown probability of success in a binomial distribution is a uniform distribution from 0 to 1. You can use this distribution in Stan like this:\n",
    "\n",
    "`rate ~  uniform(0, 1);`\n",
    "\n",
    "**Hint 3:** Here is a code scaffold that you can build upon which estimates the rate for one group. For an A/B test you would have to extend this model to include two groups. Comparing the rates of the two groups can be done either in the `generated quantities` block in Stan or by post-processing the samples from the stan model."
   ]
  },
  {
   "cell_type": "code",
   "execution_count": null,
   "metadata": {
    "collapsed": false,
    "jupyter": {
     "outputs_hidden": false
    }
   },
   "outputs": [],
   "source": [
    "# Import libraries\n",
    "import pystan # install with pip install pystan\n",
    "import pandas as pd\n",
    "import numpy as np\n",
    "from scipy.stats import beta\n",
    "import matplotlib.pyplot as plt\n",
    "\n",
    "# The Stan model as a string.\n",
    "model_string = \"\"\"\n",
    "# Here we define the data we are going to pass into the model\n",
    "data {\n",
    "  int n_a; # Number of trials of A\n",
    "  int s_a;  # Number of successes of A\n",
    "  \n",
    "  int n_b;\n",
    "  int s_b;\n",
    "}\n",
    "\n",
    "# Here we define what 'unknowns' aka parameters we have.\n",
    "parameters {\n",
    "  real<lower=0, upper=1> rate_a;\n",
    "  real<lower=0, upper=1> rate_b;\n",
    "}\n",
    "\n",
    "# The generative model\n",
    "model {\n",
    "  rate_a ~ uniform(0, 1);\n",
    "  s_a ~ binomial(n_a, rate_a);\n",
    "  \n",
    "  rate_b ~ uniform(0, 1);\n",
    "  s_b ~ binomial(n_b, rate_b);\n",
    "}\n",
    "\n",
    "# In the generated quantiles block you can calculate 'derivatives' of\n",
    "# the parameters. Here is a silly example calculating the square of the \n",
    "# rate. Variables have to be defined before they are assigned to.\n",
    "\n",
    "generated quantities {\n",
    "  real rate_diff;\n",
    "  rate_diff <- rate_b - rate_a;\n",
    "}\n",
    "\"\"\"\n",
    "\n",
    "data_list = dict(n_a=16, n_b=16, s_a=6, s_b=10)\n",
    "\n",
    "# Compiling and producing posterior samples from the model.\n",
    "stan_samples = pystan.stan(model_code=model_string, data=data_list)\n",
    "\n",
    "# Plotting and summarizing the posterior distribution\n",
    "print(stan_samples)\n",
    "print(stan_samples.plot())\n",
    "\n",
    "# Export the samples to a data.frame for easier handling.\n",
    "posterior = pd.DataFrame(stan_samples.extract())\n",
    "\n",
    "print(sum(posterior.rate_diff > 0) / len(posterior.rate_diff))"
   ]
  },
  {
   "cell_type": "markdown",
   "metadata": {},
   "source": [
    "## Question 2: Change the model so that it uses a more informative prior. What is now the probability that method B is better than method A?\n",
    "The marketing department are starting to believe that it was a fluke that such a large proportion of the Danes signed up. In all other European markets the proportion that signs up for a year of salmon is around 5% to 15%, even when given a free salmon. Use this information and make the priors in your model more informative.\n",
    "\n",
    "**Hint 1:** This can be done in a million ways and there isn’t any “right” answer to this question. Just do something quick ’n dirty.\n",
    "\n",
    "**Hint 2:** It would however be cool if you used a prior that wasn’t uniform. A good distribution, when crafting priors with support over [0, 1], is the beta distribution. You can sample from a beta distribution using `random.beta(alpha, beta, size = 1)` function in numpy, where `alpha` and `beta` defines the shape of the distribution."
   ]
  },
  {
   "cell_type": "code",
   "execution_count": null,
   "metadata": {
    "collapsed": false,
    "jupyter": {
     "outputs_hidden": false
    }
   },
   "outputs": [],
   "source": [
    "x = np.arange(0, 1.01, 0.01)\n",
    "\n",
    "pd.DataFrame({'B(10, 10)' : beta.pdf(x, 10, 10),\n",
    "                   'B(5, 2)' : beta.pdf(x, 5, 2),\n",
    "                   'B(2, 2)' : beta.pdf(x, 2, 2),\n",
    "                   'B(1, 1)' : beta.pdf(x, 1, 1),\n",
    "                   'B(.1, .5)' : beta.pdf(x, .1, .5)}, index = x).plot()\n"
   ]
  },
  {
   "cell_type": "markdown",
   "metadata": {},
   "source": [
    "**Hint 3:** An easy way to plot a beta distribution (and to explore what the shape parameters really do) is to run the following and to play around with shape1 and shape2:"
   ]
  },
  {
   "cell_type": "code",
   "execution_count": null,
   "metadata": {
    "collapsed": false,
    "jupyter": {
     "outputs_hidden": false
    }
   },
   "outputs": [],
   "source": [
    "pd.DataFrame(np.random.beta(2, 10, size = 9999)).hist()"
   ]
  },
  {
   "cell_type": "code",
   "execution_count": null,
   "metadata": {},
   "outputs": [],
   "source": [
    "# Import libraries\n",
    "import pystan # install with pip install pystan\n",
    "import pandas as pd\n",
    "import numpy as np\n",
    "from scipy.stats import beta\n",
    "import matplotlib.pyplot as plt\n",
    "\n",
    "# The Stan model as a string.\n",
    "model_string = \"\"\"\n",
    "# Here we define the data we are going to pass into the model\n",
    "data {\n",
    "  int n_a; # Number of trials of A\n",
    "  int s_a;  # Number of successes of A\n",
    "  \n",
    "  int n_b;\n",
    "  int s_b;\n",
    "}\n",
    "\n",
    "# Here we define what 'unknowns' aka parameters we have.\n",
    "parameters {\n",
    "  real<lower=0, upper=1> rate_a;\n",
    "  real<lower=0, upper=1> rate_b;\n",
    "}\n",
    "\n",
    "# The generative model\n",
    "model {\n",
    "  rate_a ~ beta(2, 10);\n",
    "  s_a ~ binomial(n_a, rate_a);\n",
    "  \n",
    "  rate_b ~ beta(2, 10);\n",
    "  s_b ~ binomial(n_b, rate_b);\n",
    "}\n",
    "\n",
    "# In the generated quantiles block you can calculate 'derivatives' of\n",
    "# the parameters. Here is a silly example calculating the square of the \n",
    "# rate. Variables have to be defined before they are assigned to.\n",
    "\n",
    "generated quantities {\n",
    "  real rate_diff;\n",
    "  rate_diff <- rate_b - rate_a;\n",
    "}\n",
    "\"\"\"\n",
    "\n",
    "data_list = dict(n_a=16, n_b=16, s_a=6, s_b=10)\n",
    "\n",
    "# Compiling and producing posterior samples from the model.\n",
    "stan_samples = pystan.stan(model_code=model_string, data=data_list)\n",
    "\n",
    "# Plotting and summarizing the posterior distribution\n",
    "print(stan_samples)\n",
    "print(stan_samples.plot())\n",
    "\n",
    "# Export the samples to a data.frame for easier handling.\n",
    "posterior = pd.DataFrame(stan_samples.extract())\n",
    "\n",
    "print(sum(posterior.rate_diff > 0) / len(posterior.rate_diff))"
   ]
  },
  {
   "cell_type": "markdown",
   "metadata": {},
   "source": [
    "## Question 3: So what should we do? Make a simple decision analysis.\n",
    "\n",
    "The economy department gives you the following information:\n",
    "\n",
    "* A mail of type A costs 30 kr to send out.\n",
    "* A mail of type B costs 300 kr to send out (due to the cost of the free salmon).\n",
    "* A salmon subscription brings in 1000 kr in revenue.\n",
    "**Which method, A or B, is most likely to make Swedish Fish Incorporated the most money?**\n",
    "\n",
    "**Hint 1:** This should require no changes to your model. It should suffice to post process the samples.\n",
    "\n",
    "**Hint 2:** If `rateA` is the probability that someone will sign up when receiving a type A mail then the expected profit is `1000 * prob_a - 30`\n",
    "\n",
    "**Hint 3:** The cool thing with working with samples from posterior distributions is that if we calculate a ‘derivative’ per each row of the sample then the resulting 'derivative distribution' will be correct! That is the derived quantity `rate_squared` in the model scaffold given in question I could equally well be calulated after having run the model, like this:\n",
    "\n",
    "`posterior = pd.DataFrame(stan_samples.extract())`\n",
    "\n",
    "`rate_squared = posterior.rate**2`"
   ]
  },
  {
   "cell_type": "code",
   "execution_count": null,
   "metadata": {},
   "outputs": [],
   "source": [
    "profit_a = posterior.rate_a * 1000 - 30\n",
    "profit_b = posterior.rate_b * 1000 - 300\n",
    "\n",
    "profit_diff = profit_b - profit_a\n",
    "\n",
    "ax = profit_diff.hist()"
   ]
  },
  {
   "cell_type": "code",
   "execution_count": null,
   "metadata": {},
   "outputs": [],
   "source": [
    "profit_diff.describe()"
   ]
  },
  {
   "cell_type": "markdown",
   "metadata": {},
   "source": [
    "Solutions (but this can be done in many ways)\n",
    "==========\n",
    "## Question I"
   ]
  },
  {
   "cell_type": "code",
   "execution_count": null,
   "metadata": {
    "collapsed": false,
    "jupyter": {
     "outputs_hidden": false
    }
   },
   "outputs": [],
   "source": [
    "import pystan # install with pip install pystan\n",
    "import pandas as pd\n",
    "import numpy as np\n",
    "\n",
    "# The Stan model as a string.\n",
    "model_string = \"\"\"\n",
    "data {\n",
    "  # Number of trials\n",
    "  int nA;\n",
    "  int nB;\n",
    "  # Number of successes\n",
    "  int sA;\n",
    "  int sB;\n",
    "}\n",
    "\n",
    "parameters {\n",
    "  real<lower=0, upper=1> rateA;\n",
    "  real<lower=0, upper=1> rateB;\n",
    "}\n",
    "\n",
    "model {\n",
    "  rateA ~ uniform(0, 1);\n",
    "  rateB ~ uniform(0, 1);\n",
    "  sA ~ binomial(nA, rateA);\n",
    "  sB ~ binomial(nB, rateB); \n",
    "}\n",
    "\n",
    "generated quantities {\n",
    "  real rate_diff;\n",
    "  rate_diff <- rateB - rateA;\n",
    "}\n",
    "\"\"\"\n",
    "\n",
    "data_list = dict(nA = 16, nB = 16, sA = 6, sB = 10)\n",
    "\n",
    "# Compiling and producing posterior samples from the model.\n",
    "stan_samples = pystan.stan(model_code = model_string, data = data_list)\n",
    "print(stan_samples)\n",
    "print(stan_samples.plot())"
   ]
  },
  {
   "cell_type": "markdown",
   "metadata": {},
   "source": [
    "So, which rate is likely higher? A or B?"
   ]
  },
  {
   "cell_type": "code",
   "execution_count": null,
   "metadata": {
    "collapsed": false,
    "jupyter": {
     "outputs_hidden": false
    }
   },
   "outputs": [],
   "source": [
    "# Export the samples to a data.frame for easier handling.\n",
    "posterior = pd.DataFrame(stan_samples.extract())\n",
    "np.mean(posterior.rate_diff > 0) # same as sum(posterior.rate_diff > 0) / len(posterior.rate_diff)"
   ]
  },
  {
   "cell_type": "markdown",
   "metadata": {},
   "source": [
    "So with around 90% probability rate B is higher than rate A. "
   ]
  },
  {
   "cell_type": "markdown",
   "metadata": {},
   "source": [
    "## Question II\n",
    "There are an unlimited ways of doing this, and here I’m just going to go with something that I think is decent but surely not perfect."
   ]
  },
  {
   "cell_type": "code",
   "execution_count": null,
   "metadata": {
    "collapsed": false,
    "jupyter": {
     "outputs_hidden": false
    }
   },
   "outputs": [],
   "source": [
    "# We will represent the background knowledge using the following beta distribution \n",
    "# which is mostly focused on the region 0.05-0.15.\n",
    "\n",
    "pd.DataFrame(np.random.beta(3, 25, size = 9999)).plot(kind = 'hist', bins = 30)"
   ]
  },
  {
   "cell_type": "code",
   "execution_count": null,
   "metadata": {
    "collapsed": false,
    "jupyter": {
     "outputs_hidden": false
    }
   },
   "outputs": [],
   "source": [
    "import pystan # install with pip install pystan\n",
    "import pandas as pd\n",
    "import numpy as np\n",
    "\n",
    "# The Stan model as a string.\n",
    "model_string = \"\"\"\n",
    "data {\n",
    "  # Number of trials\n",
    "  int nA;\n",
    "  int nB;\n",
    "  # Number of successes\n",
    "  int sA;\n",
    "  int sB;\n",
    "}\n",
    "\n",
    "parameters {\n",
    "  real<lower=0, upper=1> rateA;\n",
    "  real<lower=0, upper=1> rateB;\n",
    "}\n",
    "\n",
    "model {  \n",
    "  rateA ~ beta(3, 25);\n",
    "  rateB ~ beta(3, 25);\n",
    "  sA ~ binomial(nA, rateA);\n",
    "  sB ~ binomial(nB, rateB); \n",
    "}\n",
    "\n",
    "generated quantities {\n",
    "  real rate_diff;\n",
    "  rate_diff <- rateB - rateA;\n",
    "}\n",
    "\"\"\"\n",
    "\n",
    "data_list = dict(nA = 16, nB = 16, sA = 6, sB = 10)\n",
    "\n",
    "# Compiling and producing posterior samples from the model.\n",
    "stan_samples = pystan.stan(model_code = model_string, data = data_list)\n",
    "print(stan_samples)\n",
    "print(stan_samples.plot()) # The Stan model as a string."
   ]
  },
  {
   "cell_type": "code",
   "execution_count": null,
   "metadata": {
    "collapsed": false,
    "jupyter": {
     "outputs_hidden": false
    }
   },
   "outputs": [],
   "source": [
    "# Export the samples to a data.frame for easier handling.\n",
    "posterior = pd.DataFrame(stan_samples.extract())\n",
    "np.mean(posterior.rate_diff > 0) # same as sum(posterior.rate_diff > 0) / len(posterior.rate_diff)"
   ]
  },
  {
   "cell_type": "markdown",
   "metadata": {},
   "source": [
    "So rate B is still estimated to be higher than A with around\n",
    "80% probability, but both rates are estimated to be much lower.\n"
   ]
  },
  {
   "cell_type": "markdown",
   "metadata": {},
   "source": [
    "## Question III\n",
    "Here we don’t have to make any changes to the model, it is enough to \"post-process\" the posterior distribution in posterior."
   ]
  },
  {
   "cell_type": "code",
   "execution_count": null,
   "metadata": {
    "collapsed": false,
    "jupyter": {
     "outputs_hidden": false
    }
   },
   "outputs": [],
   "source": [
    "posterior = pd.DataFrame(stan_samples.extract())\n",
    "\n",
    "# calculating the estimated posterior profit using method A (or B)\n",
    "# a cost of 30 kr + the average profit per sent out add\n",
    "\n",
    "profitA = -30 + posterior.rateA * 1000 \n",
    "profitB = -300 + posterior.rateB * 1000 \n",
    "profitA.hist()"
   ]
  },
  {
   "cell_type": "code",
   "execution_count": null,
   "metadata": {
    "collapsed": false,
    "jupyter": {
     "outputs_hidden": false
    }
   },
   "outputs": [],
   "source": [
    "profitB.hist()"
   ]
  },
  {
   "cell_type": "code",
   "execution_count": null,
   "metadata": {
    "collapsed": false,
    "jupyter": {
     "outputs_hidden": false
    }
   },
   "outputs": [],
   "source": [
    "ax = (profitA - profitB).hist()\n",
    "expected_profit_diff = np.mean(profitA - profitB)\n",
    "ax.axvline(expected_profit_diff, color='r', linestyle='-')"
   ]
  },
  {
   "cell_type": "markdown",
   "metadata": {},
   "source": [
    "The expected profit when using method A is around 190 kr higher than for method B (which actually has a negative expected profit). So I guess sending free salmon to people isn't the best idea… "
   ]
  }
 ],
 "metadata": {
  "kernelspec": {
   "display_name": "Python 3",
   "language": "python",
   "name": "python3"
  },
  "language_info": {
   "codemirror_mode": {
    "name": "ipython",
    "version": 3
   },
   "file_extension": ".py",
   "mimetype": "text/x-python",
   "name": "python",
   "nbconvert_exporter": "python",
   "pygments_lexer": "ipython3",
   "version": "3.7.3"
  }
 },
 "nbformat": 4,
 "nbformat_minor": 4
}
