{
 "cells": [
  {
   "cell_type": "markdown",
   "metadata": {},
   "source": [
    "Exercise 1: Bayesian A testing for Swedish Fish Incorporated (B comes later)\n",
    "=======================\n",
    "### *Rasmus Bååth (adapted for Python by Christophe Carvenius)*\n",
    "\n",
    "Swedish Fish Incorporated is the largest Swedish company delivering fish by mail order. They are now trying to get into the lucrative Danish market by selling one year Salmon subscriptions. The marketing department have done a pilot study and tried the following marketing method:\n",
    "\n",
    "**A:** Sending a mail with a colorful brochure that invites people to sign up for a one year salmon subscription.\n",
    "\n",
    "The marketing department sent out 16 mails of type A. Six Danes that received a mail signed up for one year of salmon and marketing now wants to know, how good is method A?\n",
    "\n",
    "*At the bottom of this document you’ll find a solution. But try yourself first!*\n"
   ]
  },
  {
   "cell_type": "markdown",
   "metadata": {},
   "source": [
    "Question I, Build a Bayesian model that answers the question: What would the rate of sign-up be if method A was used on a larger number of people?\n",
    "-------------------\n",
    "**Hint 1:** The answer is not a single number but a distribution over probable rates of sign-up.\n",
    "\n",
    "**Hint 2:** As part of you generative model you’ll want to use the binomial distribution, which you can sample from in R using the `np.random.binomial(n, p, size)`. The binomial distribution simulates the following process n times: The number of “successes” when performing size trials, where the probability of “success” is p.\n",
    "\n",
    "**Hint 3:** A commonly used prior for the unknown probability of success in a binomial distribution is a uniform distribution from 0 to 1. You can draw from this distribution by running `np.random.uniform(0, 1, size = n_draws)`\n",
    "\n",
    "**Hint 4:** Here is a code scaffold that you can build upon.\n",
    " "
   ]
  },
  {
   "cell_type": "code",
   "execution_count": null,
   "metadata": {},
   "outputs": [],
   "source": [
    "# Import libraries\n",
    "import pandas as pd\n",
    "import numpy as np\n",
    "\n",
    "%matplotlib inline\n",
    "\n",
    "# Number of random draws from the prior\n",
    "n_draws = 100000\n",
    "\n",
    "# Here you sample n_draws draws from the prior into a pandas Series (to have convenient\n",
    "# methods available for histograms and descriptive statistics, e.g. median)\n",
    "prior_list = np.random.uniform(0, 1, size=n_draws)\n",
    "prior = pd.Series(prior_list)  \n",
    "\n",
    "prior.hist()\n",
    "\n",
    "# Here you define the generative model\n",
    "def generative_model(probability, n=16):\n",
    "    return np.random.binomial(n, probability)\n",
    "\n",
    "# Here you simulate data using the parameters from the prior and the \n",
    "# generative model\n",
    "sim_data = list()\n",
    "for p in prior:\n",
    "    sim_data.append(generative_model(p))\n",
    "    \n",
    "sim_data = pd.Series(sim_data)\n",
    "\n",
    "# Here you filter off all draws that do not match the data.\n",
    "# Observed data\n",
    "observed_data = 6\n",
    "\n",
    "index = sim_data == observed_data\n",
    "posterior = prior[index]\n",
    "\n",
    "posterior.hist() # Eyeball the posterior\n",
    "\n",
    "# See that we got enought draws left after the filtering. \n",
    "# There are no rules here, but you probably want to aim for >1000 draws.\n",
    "\n",
    "# Now you can summarize the posterior, where a common summary is to take the mean or the median posterior, \n",
    "# and perhaps a 95% quantile interval.\n",
    "print('Number of draws left: %d, Posterior median: %.3f, Posterior quantile interval: %.3f-%.3f' % \n",
    "      (len(posterior), posterior.median(), posterior.quantile(.025), posterior.quantile(.975)))"
   ]
  },
  {
   "cell_type": "markdown",
   "metadata": {},
   "source": [
    "Question II, What’s the probability that method A is better than telemarketing?\n",
    "----------------\n",
    "So marketing just told us that the rate of sign-up would be 20% if salmon subscribers were snared by a telemarketing campaign instead (to us it’s very unclear where marketing got this very precise number from). So given the model and the data that we developed in the last question, what’s the probability that method A has a higher rate of sign-up than telemarketing?\n",
    "\n",
    "**Hint 1:** If you have a vector of samples representing a probability distribution, which you should have from the last question, calculating the amount of probability above a certain value is done by simply *counting* the number of samples above that value and dividing by the total number of samples.\n",
    "\n",
    "**Hint 2:** The answer to this question is a one-liner."
   ]
  },
  {
   "cell_type": "code",
   "execution_count": null,
   "metadata": {},
   "outputs": [],
   "source": [
    "print((posterior > 0.2).mean())"
   ]
  },
  {
   "cell_type": "markdown",
   "metadata": {},
   "source": [
    "Question III, If method A was used on 100 people what would be number of sign-ups?\n",
    "--------------\n",
    "\n",
    "**Hint 1:** The answer is again not a single number but a distribution over probable number of sign-ups.\n",
    "\n",
    "**Hint 2:** As before, the binomial distribution is a good candidate for how many people that sign up out of the 100 possible.\n",
    "\n",
    "**Hint 3:** Make sure you don’t “throw away” uncertainty, for example by using a summary of the posterior distribution calculated in the first question. Use the full original posterior sample!\n",
    "\n",
    "**Hint 4:** The general patter when calculating “derivatives” of posterior samples is to go through the values one-by-one, and perform a transformation (say, plugging in the value in a binomial distribution), and collect the new values in a vector.\n",
    "\n",
    " "
   ]
  },
  {
   "cell_type": "code",
   "execution_count": null,
   "metadata": {},
   "outputs": [],
   "source": [
    "n_runs = 1000\n",
    "\n",
    "signups = pd.Series([np.random.binomial(100, p) for p in posterior])"
   ]
  },
  {
   "cell_type": "code",
   "execution_count": null,
   "metadata": {},
   "outputs": [],
   "source": [
    "print(signups.median(), signups.quantile(.025), signups.quantile(.975))"
   ]
  },
  {
   "cell_type": "markdown",
   "metadata": {},
   "source": [
    "Solutions (but this can be done in many ways)\n",
    "==============\n",
    "Question I\n",
    "--------------"
   ]
  },
  {
   "cell_type": "code",
   "execution_count": null,
   "metadata": {
    "collapsed": false,
    "jupyter": {
     "outputs_hidden": false
    }
   },
   "outputs": [],
   "source": [
    "# Import libraries\n",
    "import pandas as pd\n",
    "import numpy as np\n",
    "\n",
    "# Number of random draws from the prior\n",
    "n_draw = 10000\n",
    "\n",
    "# Defining and drawing from the prior distribution \n",
    "prior_rate = pd.Series(np.random.uniform(0, 1, size = n_draw)) \n",
    "\n",
    "# It's always good to eyeball the prior to make sure it looks ok.\n",
    "prior_rate.hist() "
   ]
  },
  {
   "cell_type": "code",
   "execution_count": null,
   "metadata": {
    "collapsed": false,
    "jupyter": {
     "outputs_hidden": false
    }
   },
   "outputs": [],
   "source": [
    "# Defining the generative model\n",
    "def gen_model(prob):\n",
    "    return(np.random.binomial(16, prob))\n",
    "\n",
    "#  the generative model\n",
    "subscribers = list()\n",
    "\n",
    "# Simulating the data\n",
    "for p in prior_rate:\n",
    "    subscribers.append(gen_model(p))\n",
    "                    \n",
    "# Observed data\n",
    "observed_data = 6\n",
    "\n",
    "# Here you filter off all draws that do not match the data.\n",
    "post_rate = prior_rate[list(map(lambda x: x == observed_data, subscribers))]\n",
    "\n",
    "post_rate.hist() # Eyeball the posterior\n",
    "\n",
    "\n",
    "# See that we got enought draws left after the filtering. \n",
    "# There are no rules here, but you probably want to aim for >1000 draws.\n",
    "\n",
    "# Now you can summarize the posterior, where a common summary is to take the mean or the median posterior, \n",
    "# and perhaps a 95% quantile interval.\n",
    "\n",
    "\n",
    "print('Number of draws left: %d, Posterior mean: %.3f, Posterior median: %.3f, Posterior 95%% quantile interval: %.3f-%.3f' % \n",
    "      (len(post_rate), post_rate.mean(), post_rate.median(), post_rate.quantile(.025), post_rate.quantile(.975)))\n",
    "\n"
   ]
  },
  {
   "cell_type": "markdown",
   "metadata": {},
   "source": [
    "Question II\n",
    "----------\n"
   ]
  },
  {
   "cell_type": "code",
   "execution_count": null,
   "metadata": {
    "collapsed": false,
    "jupyter": {
     "outputs_hidden": false
    }
   },
   "outputs": [],
   "source": [
    "sum(post_rate > 0.2) / len(post_rate) # or just np.mean(post_rate > 0.2)"
   ]
  },
  {
   "cell_type": "markdown",
   "metadata": {},
   "source": [
    "Question III\n",
    "----------"
   ]
  },
  {
   "cell_type": "code",
   "execution_count": null,
   "metadata": {
    "collapsed": false,
    "jupyter": {
     "outputs_hidden": false
    }
   },
   "outputs": [],
   "source": [
    "# This can be done with a for loop\n",
    "signups = list()\n",
    "\n",
    "for p in post_rate:\n",
    "    signups.append(np.random.binomial(100, p))\n",
    "\n",
    "\n",
    "# But we can write it like this:\n",
    "signups = pd.Series([np.random.binomial(n = 100, p = p) for p in post_rate])\n",
    "\n",
    "signups.hist()\n",
    "print('Sign-up 95%% quantile interval %d-%d' % tuple(signups.quantile([.025, .975]).values))"
   ]
  },
  {
   "cell_type": "markdown",
   "metadata": {},
   "source": [
    "So a decent guess is that is would be between 20 and 60 sign-ups."
   ]
  }
 ],
 "metadata": {
  "kernelspec": {
   "display_name": "Python 3",
   "language": "python",
   "name": "python3"
  },
  "language_info": {
   "codemirror_mode": {
    "name": "ipython",
    "version": 3
   },
   "file_extension": ".py",
   "mimetype": "text/x-python",
   "name": "python",
   "nbconvert_exporter": "python",
   "pygments_lexer": "ipython3",
   "version": "3.7.3"
  }
 },
 "nbformat": 4,
 "nbformat_minor": 4
}
